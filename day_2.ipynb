{
  "nbformat": 4,
  "nbformat_minor": 0,
  "metadata": {
    "colab": {
      "provenance": [],
      "authorship_tag": "ABX9TyOUDEGzcAfE+zDQnrrOHOBC",
      "include_colab_link": true
    },
    "kernelspec": {
      "name": "python3",
      "display_name": "Python 3"
    },
    "language_info": {
      "name": "python"
    }
  },
  "cells": [
    {
      "cell_type": "markdown",
      "metadata": {
        "id": "view-in-github",
        "colab_type": "text"
      },
      "source": [
        "<a href=\"https://colab.research.google.com/github/shavithasri/data_science/blob/main/day_2.ipynb\" target=\"_parent\"><img src=\"https://colab.research.google.com/assets/colab-badge.svg\" alt=\"Open In Colab\"/></a>"
      ]
    },
    {
      "cell_type": "code",
      "execution_count": 1,
      "metadata": {
        "colab": {
          "base_uri": "https://localhost:8080/"
        },
        "id": "pIA7GAx8Gq8l",
        "outputId": "1ef3b192-7753-46a8-de56-d5017bf3fb89"
      },
      "outputs": [
        {
          "output_type": "stream",
          "name": "stdout",
          "text": [
            "Jose\n",
            "19\n",
            "26.061679307694877\n",
            "over weight\n"
          ]
        }
      ],
      "source": [
        "pnt_n1=\"Jose\"\n",
        "pnt_age=\"19\"\n",
        "pnt_hgt=1.73\n",
        "pnt_wgt=78\n",
        "\n",
        "pnt_bmi=pnt_wgt/(pnt_hgt**2)\n",
        "print(pnt_n1)\n",
        "print(pnt_age)\n",
        "print(pnt_bmi)\n",
        "if (pnt_bmi<=18.5):\n",
        "  print(\"under weight\")\n",
        "elif (pnt_bmi>=18.5 and pnt_bmi<=24.9):\n",
        "  print(\"healthy\")\n",
        "else:\n",
        "  print(\"over weight\")"
      ]
    },
    {
      "cell_type": "code",
      "source": [
        "import numpy as np\n",
        "hrt_rate=np.array([120,119,125,128,120,190,120])\n",
        "print(\"Heart rate:\",hrt_rate)\n",
        "print(\"Highest heart rate:\", np.max(hrt_rate))\n",
        "print(\"Lowest heart rate:\", np.min(hrt_rate))\n",
        "print(\"Average heart rate:\", np.mean(hrt_rate))"
      ],
      "metadata": {
        "colab": {
          "base_uri": "https://localhost:8080/"
        },
        "id": "7ET77F0FGyYi",
        "outputId": "2085b186-7971-49bc-9626-7dbf8e181df0"
      },
      "execution_count": 2,
      "outputs": [
        {
          "output_type": "stream",
          "name": "stdout",
          "text": [
            "Heart rate: [120 119 125 128 120 190 120]\n",
            "Highest heart rate: 190\n",
            "Lowest heart rate: 119\n",
            "Average heart rate: 131.71428571428572\n"
          ]
        }
      ]
    },
    {
      "cell_type": "code",
      "source": [
        "import pandas as pd\n",
        "data={\"Patient\":[\"Jose\",\"San\",\"Ruby\"],\n",
        "      \"Age\":[\"23\",\"25\",\"20\"],\n",
        "      \"chllevel\":[200,240,290],\n",
        "      \"bmi\":[19.5,26.3,20]\n",
        "}\n",
        "df=pd.DataFrame(data)\n",
        "print(df)"
      ],
      "metadata": {
        "colab": {
          "base_uri": "https://localhost:8080/"
        },
        "id": "8ta-tTFaG5Zr",
        "outputId": "427af528-9a85-46a6-a4b4-2e3d55a52f8d"
      },
      "execution_count": 3,
      "outputs": [
        {
          "output_type": "stream",
          "name": "stdout",
          "text": [
            "  Patient Age  chllevel   bmi\n",
            "0    Jose  23       200  19.5\n",
            "1     San  25       240  26.3\n",
            "2    Ruby  20       290  20.0\n"
          ]
        }
      ]
    },
    {
      "cell_type": "code",
      "source": [
        "high_chl=df[df[\"chllevel\"] > 240]\n",
        "print(high_chl)\n",
        ""
      ],
      "metadata": {
        "colab": {
          "base_uri": "https://localhost:8080/"
        },
        "id": "QAV9a_YIG6DR",
        "outputId": "80d6380c-7cb9-4dff-ca4c-46e8182040f2"
      },
      "execution_count": 4,
      "outputs": [
        {
          "output_type": "stream",
          "name": "stdout",
          "text": [
            "  Patient Age  chllevel   bmi\n",
            "2    Ruby  20       290  20.0\n"
          ]
        }
      ]
    },
    {
      "cell_type": "code",
      "source": [
        "df_sorted=df.sort_values(by=\"bmi\",ascending=False)\n",
        "print(df_sorted)\n",
        ""
      ],
      "metadata": {
        "colab": {
          "base_uri": "https://localhost:8080/"
        },
        "id": "A_4nbVrBHCx1",
        "outputId": "c9e98861-c492-48b6-8827-dd5447ada1fd"
      },
      "execution_count": 5,
      "outputs": [
        {
          "output_type": "stream",
          "name": "stdout",
          "text": [
            "  Patient Age  chllevel   bmi\n",
            "1     San  25       240  26.3\n",
            "2    Ruby  20       290  20.0\n",
            "0    Jose  23       200  19.5\n"
          ]
        }
      ]
    },
    {
      "cell_type": "code",
      "source": [
        "df['risk']=[\"low\",\"high\",\"medium\"]\n",
        "print(df)"
      ],
      "metadata": {
        "colab": {
          "base_uri": "https://localhost:8080/"
        },
        "id": "12Yce-VHHIoD",
        "outputId": "dea5079d-b12e-47de-f215-9b4491cdc5ef"
      },
      "execution_count": 6,
      "outputs": [
        {
          "output_type": "stream",
          "name": "stdout",
          "text": [
            "  Patient Age  chllevel   bmi    risk\n",
            "0    Jose  23       200  19.5     low\n",
            "1     San  25       240  26.3    high\n",
            "2    Ruby  20       290  20.0  medium\n"
          ]
        }
      ]
    },
    {
      "cell_type": "code",
      "source": [
        "import pandas as pd\n",
        "from google.colab import files\n",
        "\n",
        "df.to_csv(\"Health_care_dataanalysis.csv\",index=False)\n",
        "files.download(\"Health_care_dataanalysis.csv\")"
      ],
      "metadata": {
        "colab": {
          "base_uri": "https://localhost:8080/",
          "height": 17
        },
        "id": "wELODBv6HJX9",
        "outputId": "2f952155-e98a-4e78-8a93-27a0738d77cc"
      },
      "execution_count": 7,
      "outputs": [
        {
          "output_type": "display_data",
          "data": {
            "text/plain": [
              "<IPython.core.display.Javascript object>"
            ],
            "application/javascript": [
              "\n",
              "    async function download(id, filename, size) {\n",
              "      if (!google.colab.kernel.accessAllowed) {\n",
              "        return;\n",
              "      }\n",
              "      const div = document.createElement('div');\n",
              "      const label = document.createElement('label');\n",
              "      label.textContent = `Downloading \"${filename}\": `;\n",
              "      div.appendChild(label);\n",
              "      const progress = document.createElement('progress');\n",
              "      progress.max = size;\n",
              "      div.appendChild(progress);\n",
              "      document.body.appendChild(div);\n",
              "\n",
              "      const buffers = [];\n",
              "      let downloaded = 0;\n",
              "\n",
              "      const channel = await google.colab.kernel.comms.open(id);\n",
              "      // Send a message to notify the kernel that we're ready.\n",
              "      channel.send({})\n",
              "\n",
              "      for await (const message of channel.messages) {\n",
              "        // Send a message to notify the kernel that we're ready.\n",
              "        channel.send({})\n",
              "        if (message.buffers) {\n",
              "          for (const buffer of message.buffers) {\n",
              "            buffers.push(buffer);\n",
              "            downloaded += buffer.byteLength;\n",
              "            progress.value = downloaded;\n",
              "          }\n",
              "        }\n",
              "      }\n",
              "      const blob = new Blob(buffers, {type: 'application/binary'});\n",
              "      const a = document.createElement('a');\n",
              "      a.href = window.URL.createObjectURL(blob);\n",
              "      a.download = filename;\n",
              "      div.appendChild(a);\n",
              "      a.click();\n",
              "      div.remove();\n",
              "    }\n",
              "  "
            ]
          },
          "metadata": {}
        },
        {
          "output_type": "display_data",
          "data": {
            "text/plain": [
              "<IPython.core.display.Javascript object>"
            ],
            "application/javascript": [
              "download(\"download_56d2f4ca-7de9-4880-9d01-6b22816da348\", \"Health_care_dataanalysis.csv\", 96)"
            ]
          },
          "metadata": {}
        }
      ]
    }
  ]
}