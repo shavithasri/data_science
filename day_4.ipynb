{
  "nbformat": 4,
  "nbformat_minor": 0,
  "metadata": {
    "colab": {
      "provenance": [],
      "authorship_tag": "ABX9TyP1cfSsuWzpim3ndNxF3+Gb",
      "include_colab_link": true
    },
    "kernelspec": {
      "name": "python3",
      "display_name": "Python 3"
    },
    "language_info": {
      "name": "python"
    }
  },
  "cells": [
    {
      "cell_type": "markdown",
      "metadata": {
        "id": "view-in-github",
        "colab_type": "text"
      },
      "source": [
        "<a href=\"https://colab.research.google.com/github/shavithasri/data_science/blob/main/day_4.ipynb\" target=\"_parent\"><img src=\"https://colab.research.google.com/assets/colab-badge.svg\" alt=\"Open In Colab\"/></a>"
      ]
    },
    {
      "cell_type": "code",
      "execution_count": null,
      "metadata": {
        "colab": {
          "base_uri": "https://localhost:8080/"
        },
        "id": "ReY5rrl_5P1R",
        "outputId": "c7b7a0bd-f986-4d94-e4fb-ca62837df078"
      },
      "outputs": [
        {
          "output_type": "stream",
          "name": "stdout",
          "text": [
            "  name   age  marks  attendance passed\n",
            "0    A  12.0     45          76    yes\n",
            "1    B  13.0     67          75    yes\n",
            "2    C  45.0     89          67    yes\n",
            "3    D   NaN     76          89     no\n",
            "4    E  90.0     32          65    yes\n"
          ]
        }
      ],
      "source": [
        "import pandas as pd\n",
        "import numpy as np\n",
        "data={\"name\":[\"A\",\"B\",\"C\",\"D\",\"E\"],\"age\":[12,13,45,np.nan,90],\"marks\":[45,67,89,76,32],\"attendance\":[76,75,67,89,65],\"passed\":[\"yes\",\"yes\",\"yes\",\"no\",\"yes\"]}\n",
        "df=pd.DataFrame(data)\n",
        "print(df)"
      ]
    },
    {
      "cell_type": "code",
      "source": [
        "print(df.isnull().sum())"
      ],
      "metadata": {
        "colab": {
          "base_uri": "https://localhost:8080/"
        },
        "id": "dwNHicAF_Dn3",
        "outputId": "a8b46953-9a0a-4c5c-bb32-fc844ff880db"
      },
      "execution_count": null,
      "outputs": [
        {
          "output_type": "stream",
          "name": "stdout",
          "text": [
            "name          0\n",
            "age           1\n",
            "marks         0\n",
            "attendance    0\n",
            "passed        0\n",
            "dtype: int64\n"
          ]
        }
      ]
    },
    {
      "cell_type": "code",
      "source": [
        "df_cleaned = df.dropna()\n",
        "print(df_cleaned)"
      ],
      "metadata": {
        "colab": {
          "base_uri": "https://localhost:8080/"
        },
        "id": "iFniz79Z_Gq3",
        "outputId": "128e1b07-6978-4db5-a337-6750cc64c660"
      },
      "execution_count": null,
      "outputs": [
        {
          "output_type": "stream",
          "name": "stdout",
          "text": [
            "  name   age  marks  attendance passed\n",
            "0    A  12.0     45          76    yes\n",
            "1    B  13.0     67          75    yes\n",
            "2    C  45.0     89          67    yes\n",
            "4    E  90.0     32          65    yes\n"
          ]
        }
      ]
    },
    {
      "cell_type": "code",
      "source": [
        "df[\"age\"].fillna(df[\"age\"].mean(), inplace=True)\n",
        "df[\"marks\"].fillna(df[\"marks\"].median(), inplace=True)\n",
        "df[\"attendance\"].fillna(df[\"attendance\"].mean(),\n",
        "inplace=True)"
      ],
      "metadata": {
        "colab": {
          "base_uri": "https://localhost:8080/"
        },
        "id": "VhiUUQov_MAT",
        "outputId": "5a938479-7dfc-4583-a461-404b70e22601"
      },
      "execution_count": null,
      "outputs": [
        {
          "output_type": "stream",
          "name": "stderr",
          "text": [
            "<ipython-input-7-063422197f41>:1: FutureWarning: A value is trying to be set on a copy of a DataFrame or Series through chained assignment using an inplace method.\n",
            "The behavior will change in pandas 3.0. This inplace method will never work because the intermediate object on which we are setting values always behaves as a copy.\n",
            "\n",
            "For example, when doing 'df[col].method(value, inplace=True)', try using 'df.method({col: value}, inplace=True)' or df[col] = df[col].method(value) instead, to perform the operation inplace on the original object.\n",
            "\n",
            "\n",
            "  df[\"age\"].fillna(df[\"age\"].mean(), inplace=True)\n",
            "<ipython-input-7-063422197f41>:2: FutureWarning: A value is trying to be set on a copy of a DataFrame or Series through chained assignment using an inplace method.\n",
            "The behavior will change in pandas 3.0. This inplace method will never work because the intermediate object on which we are setting values always behaves as a copy.\n",
            "\n",
            "For example, when doing 'df[col].method(value, inplace=True)', try using 'df.method({col: value}, inplace=True)' or df[col] = df[col].method(value) instead, to perform the operation inplace on the original object.\n",
            "\n",
            "\n",
            "  df[\"marks\"].fillna(df[\"marks\"].median(), inplace=True)\n",
            "<ipython-input-7-063422197f41>:3: FutureWarning: A value is trying to be set on a copy of a DataFrame or Series through chained assignment using an inplace method.\n",
            "The behavior will change in pandas 3.0. This inplace method will never work because the intermediate object on which we are setting values always behaves as a copy.\n",
            "\n",
            "For example, when doing 'df[col].method(value, inplace=True)', try using 'df.method({col: value}, inplace=True)' or df[col] = df[col].method(value) instead, to perform the operation inplace on the original object.\n",
            "\n",
            "\n",
            "  df[\"attendance\"].fillna(df[\"attendance\"].mean(),\n"
          ]
        }
      ]
    },
    {
      "cell_type": "code",
      "source": [
        "df[\"passed\"].fillna(df[\"passed\"].mode()[0], inplace=True)"
      ],
      "metadata": {
        "colab": {
          "base_uri": "https://localhost:8080/"
        },
        "id": "ZFFAXZj7_Xp1",
        "outputId": "ab9333d4-f958-4940-ce5e-aaf4bd14a996"
      },
      "execution_count": null,
      "outputs": [
        {
          "output_type": "stream",
          "name": "stderr",
          "text": [
            "<ipython-input-9-feee90eed8de>:1: FutureWarning: A value is trying to be set on a copy of a DataFrame or Series through chained assignment using an inplace method.\n",
            "The behavior will change in pandas 3.0. This inplace method will never work because the intermediate object on which we are setting values always behaves as a copy.\n",
            "\n",
            "For example, when doing 'df[col].method(value, inplace=True)', try using 'df.method({col: value}, inplace=True)' or df[col] = df[col].method(value) instead, to perform the operation inplace on the original object.\n",
            "\n",
            "\n",
            "  df[\"passed\"].fillna(df[\"passed\"].mode()[0], inplace=True)\n"
          ]
        }
      ]
    },
    {
      "cell_type": "code",
      "source": [
        "df.ffill(inplace=True)\n",
        "df.bfill(inplace=True)"
      ],
      "metadata": {
        "id": "wSnfJUFu_dAO"
      },
      "execution_count": null,
      "outputs": []
    },
    {
      "cell_type": "code",
      "source": [
        "df.drop_duplicates(inplace=True)"
      ],
      "metadata": {
        "id": "LNAcyRVq_iG0"
      },
      "execution_count": null,
      "outputs": []
    },
    {
      "cell_type": "code",
      "source": [
        "from sklearn.preprocessing import StandardScaler\n",
        "scaler = StandardScaler()\n",
        "df_scaled = df.copy()\n",
        "df_scaled[[\"marks\", \"attendance\"]] = scaler.fit_transform(df[[\"marks\", \"attendance\"]])\n",
        "print(df_scaled)"
      ],
      "metadata": {
        "colab": {
          "base_uri": "https://localhost:8080/"
        },
        "id": "cwnJippk_oli",
        "outputId": "5a881835-863f-4313-cc36-1cfff07c5316"
      },
      "execution_count": null,
      "outputs": [
        {
          "output_type": "stream",
          "name": "stdout",
          "text": [
            "  name   age     marks  attendance passed\n",
            "0    A  12.0 -0.812286    0.188772    yes\n",
            "1    B  13.0  0.251422    0.070789    yes\n",
            "2    C  45.0  1.315130   -0.873069    yes\n",
            "3    D  40.0  0.686575    1.722542     no\n",
            "4    E  90.0 -1.440841   -1.109034    yes\n"
          ]
        }
      ]
    },
    {
      "cell_type": "code",
      "source": [
        "from sklearn.preprocessing import MinMaxScaler\n",
        "scaler = MinMaxScaler()\n",
        "df_scaled[[\"marks\", \"attendance\"]] = scaler.fit_transform(df[[\"marks\", \"attendance\"]])\n",
        "print(df_scaled)"
      ],
      "metadata": {
        "colab": {
          "base_uri": "https://localhost:8080/"
        },
        "id": "DIRkBnnp_4b4",
        "outputId": "e8d35e0e-2345-4acf-b5b7-72bbf3e5fb6b"
      },
      "execution_count": null,
      "outputs": [
        {
          "output_type": "stream",
          "name": "stdout",
          "text": [
            "  name   age     marks  attendance passed\n",
            "0    A  12.0  0.228070    0.458333    yes\n",
            "1    B  13.0  0.614035    0.416667    yes\n",
            "2    C  45.0  1.000000    0.083333    yes\n",
            "3    D  40.0  0.771930    1.000000     no\n",
            "4    E  90.0  0.000000    0.000000    yes\n"
          ]
        }
      ]
    },
    {
      "cell_type": "code",
      "source": [
        "df_encoded = pd.get_dummies(df, columns=[\"passed\"],\n",
        "drop_first=True)\n",
        "print(df_encoded)"
      ],
      "metadata": {
        "colab": {
          "base_uri": "https://localhost:8080/"
        },
        "id": "nrEhposhAAvz",
        "outputId": "4698db32-b572-4073-e4e6-9ebe5ce93899"
      },
      "execution_count": null,
      "outputs": [
        {
          "output_type": "stream",
          "name": "stdout",
          "text": [
            "  name   age  marks  attendance  passed_yes\n",
            "0    A  12.0     45          76        True\n",
            "1    B  13.0     67          75        True\n",
            "2    C  45.0     89          67        True\n",
            "3    D  40.0     76          89       False\n",
            "4    E  90.0     32          65        True\n"
          ]
        }
      ]
    },
    {
      "cell_type": "code",
      "source": [
        "from sklearn.preprocessing import LabelEncoder\n",
        "encoder = LabelEncoder()\n",
        "df[\"passed\"] = encoder.fit_transform(df[\"passed\"])\n",
        "print(df)"
      ],
      "metadata": {
        "colab": {
          "base_uri": "https://localhost:8080/"
        },
        "id": "iQCV76keAE-K",
        "outputId": "04cd6611-c8f8-4ea3-8356-a77fab098c3e"
      },
      "execution_count": null,
      "outputs": [
        {
          "output_type": "stream",
          "name": "stdout",
          "text": [
            "  name   age  marks  attendance  passed\n",
            "0    A  12.0     45          76       1\n",
            "1    B  13.0     67          75       1\n",
            "2    C  45.0     89          67       1\n",
            "3    D  40.0     76          89       0\n",
            "4    E  90.0     32          65       1\n"
          ]
        }
      ]
    },
    {
      "cell_type": "code",
      "source": [
        "def performance_category(marks):\n",
        "    if marks >= 85:\n",
        "        return \"High\"\n",
        "    elif marks >= 70:\n",
        "        return \"Medium\"\n",
        "    else:\n",
        "        return \"Low\"\n",
        "\n",
        "df[\"attendance\"] = df[\"marks\"].apply(performance_category)\n",
        "print(df)"
      ],
      "metadata": {
        "colab": {
          "base_uri": "https://localhost:8080/"
        },
        "id": "-hUy2CbaAZwA",
        "outputId": "21dbb2af-c900-4081-98a5-ced7a27331e6"
      },
      "execution_count": null,
      "outputs": [
        {
          "output_type": "stream",
          "name": "stdout",
          "text": [
            "  name   age  marks attendance  passed\n",
            "0    A  12.0     45        Low       1\n",
            "1    B  13.0     67        Low       1\n",
            "2    C  45.0     89       High       1\n",
            "3    D  40.0     76     Medium       0\n",
            "4    E  90.0     32        Low       1\n"
          ]
        }
      ]
    },
    {
      "cell_type": "code",
      "source": [
        "df[\"Age_Group\"] = pd.cut(df[\"age\"], bins=[18, 21, 24],\n",
        "labels=[\"Young\", \"Adult\"])\n",
        "print(df)"
      ],
      "metadata": {
        "colab": {
          "base_uri": "https://localhost:8080/"
        },
        "id": "xjoFHrUTAg_O",
        "outputId": "1277cd47-8199-49db-a25a-67c4c1d9b7c3"
      },
      "execution_count": null,
      "outputs": [
        {
          "output_type": "stream",
          "name": "stdout",
          "text": [
            "  name   age  marks attendance  passed Age_Group\n",
            "0    A  12.0     45        Low       1       NaN\n",
            "1    B  13.0     67        Low       1       NaN\n",
            "2    C  45.0     89       High       1       NaN\n",
            "3    D  40.0     76     Medium       0       NaN\n",
            "4    E  90.0     32        Low       1       NaN\n"
          ]
        }
      ]
    }
  ]
}