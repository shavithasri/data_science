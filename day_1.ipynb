{
  "nbformat": 4,
  "nbformat_minor": 0,
  "metadata": {
    "colab": {
      "provenance": [],
      "authorship_tag": "ABX9TyNMnq9vtatAKjJjVgmAoVRI",
      "include_colab_link": true
    },
    "kernelspec": {
      "name": "python3",
      "display_name": "Python 3"
    },
    "language_info": {
      "name": "python"
    }
  },
  "cells": [
    {
      "cell_type": "markdown",
      "metadata": {
        "id": "view-in-github",
        "colab_type": "text"
      },
      "source": [
        "<a href=\"https://colab.research.google.com/github/shavithasri/data_science/blob/main/day_1.ipynb\" target=\"_parent\"><img src=\"https://colab.research.google.com/assets/colab-badge.svg\" alt=\"Open In Colab\"/></a>"
      ]
    },
    {
      "cell_type": "code",
      "execution_count": 1,
      "metadata": {
        "colab": {
          "base_uri": "https://localhost:8080/"
        },
        "id": "C-0nCZ0LFiRT",
        "outputId": "21434585-8d24-4106-e521-2c988612a234"
      },
      "outputs": [
        {
          "output_type": "stream",
          "name": "stdout",
          "text": [
            "Jose\n",
            "19\n",
            "26.061679307694877\n",
            "over weight\n"
          ]
        }
      ],
      "source": [
        "pnt_n1=\"Jose\"\n",
        "pnt_age=\"19\"\n",
        "pnt_hgt=1.73\n",
        "pnt_wgt=78\n",
        "\n",
        "pnt_bmi=pnt_wgt/(pnt_hgt**2)\n",
        "print(pnt_n1)\n",
        "print(pnt_age)\n",
        "print(pnt_bmi)\n",
        "if (pnt_bmi<=18.5):\n",
        "  print(\"under weight\")\n",
        "elif (pnt_bmi>=18.5 and pnt_bmi<=24.9):\n",
        "  print(\"healthy\")\n",
        "else:\n",
        "  print(\"over weight\")"
      ]
    },
    {
      "cell_type": "code",
      "source": [
        "import numpy as np\n",
        "hrt_rate=np.array([120,119,125,128,120,190,120])\n",
        "print(\"Heart rate:\",hrt_rate)\n",
        "print(\"Highest heart rate:\", np.max(hrt_rate))\n",
        "print(\"Lowest heart rate:\", np.min(hrt_rate))\n",
        "print(\"Average heart rate:\", np.mean(hrt_rate))"
      ],
      "metadata": {
        "colab": {
          "base_uri": "https://localhost:8080/"
        },
        "id": "ugATDvWPF3rJ",
        "outputId": "6d14f70d-56d8-4b3e-a4b4-7d6f4161b982"
      },
      "execution_count": 2,
      "outputs": [
        {
          "output_type": "stream",
          "name": "stdout",
          "text": [
            "Heart rate: [120 119 125 128 120 190 120]\n",
            "Highest heart rate: 190\n",
            "Lowest heart rate: 119\n",
            "Average heart rate: 131.71428571428572\n"
          ]
        }
      ]
    },
    {
      "cell_type": "code",
      "source": [
        "import pandas as pd\n",
        "data={\"Patient\":[\"Jose\",\"San\",\"Ruby\"],\n",
        "      \"Age\":[\"23\",\"25\",\"20\"],\n",
        "      \"chllevel\":[200,240,290],\n",
        "      \"bmi\":[19.5,26.3,20]\n",
        "}\n",
        "df=pd.DataFrame(data)\n",
        "print(df)"
      ],
      "metadata": {
        "colab": {
          "base_uri": "https://localhost:8080/"
        },
        "id": "J9kZc4x7F5iG",
        "outputId": "a0b02dd2-6c67-45f5-9268-15d6c9e64c66"
      },
      "execution_count": 4,
      "outputs": [
        {
          "output_type": "stream",
          "name": "stdout",
          "text": [
            "  Patient Age  chllevel   bmi\n",
            "0    Jose  23       200  19.5\n",
            "1     San  25       240  26.3\n",
            "2    Ruby  20       290  20.0\n"
          ]
        }
      ]
    },
    {
      "cell_type": "code",
      "source": [
        "high_chl=df[df[\"chllevel\"] > 240]\n",
        "print(high_chl)\n",
        ""
      ],
      "metadata": {
        "colab": {
          "base_uri": "https://localhost:8080/"
        },
        "id": "pBk4ttDJF9W6",
        "outputId": "c2a23726-7a72-42bf-b964-93e646634427"
      },
      "execution_count": 5,
      "outputs": [
        {
          "output_type": "stream",
          "name": "stdout",
          "text": [
            "  Patient Age  chllevel   bmi\n",
            "2    Ruby  20       290  20.0\n"
          ]
        }
      ]
    },
    {
      "cell_type": "code",
      "source": [
        "df_sorted=df.sort_values(by=\"bmi\",ascending=False)\n",
        "print(df_sorted)"
      ],
      "metadata": {
        "colab": {
          "base_uri": "https://localhost:8080/"
        },
        "id": "75IOgyhHGC6l",
        "outputId": "b435b5dd-5be1-4cd8-9358-7f142f1a87e7"
      },
      "execution_count": 6,
      "outputs": [
        {
          "output_type": "stream",
          "name": "stdout",
          "text": [
            "  Patient Age  chllevel   bmi\n",
            "1     San  25       240  26.3\n",
            "2    Ruby  20       290  20.0\n",
            "0    Jose  23       200  19.5\n"
          ]
        }
      ]
    }
  ]
}